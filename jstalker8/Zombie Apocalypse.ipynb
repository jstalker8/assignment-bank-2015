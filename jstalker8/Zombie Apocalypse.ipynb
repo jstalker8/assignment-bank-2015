{
 "cells": [
  {
   "cell_type": "markdown",
   "metadata": {
    "collapsed": true
   },
   "source": [
    "# Zombie Apocolapse"
   ]
  },
  {
   "cell_type": "markdown",
   "metadata": {},
   "source": [
    "In this course we have studied many interesting and pratical numerical soultion problems intended to give us a better understanding of some of the typical engineering problems we as engineers could encounter in our career.  For my final project I have choosen a topic that while interesting to model, is hopefully (atleast for our sake) never going to be encountered.  This model will require some assumptions be made so it is not intended to be perfect mathmatical representation of this dooms day scenario.  With that said lets start a model for the zombie appocalyse."
   ]
  },
  {
   "cell_type": "code",
   "execution_count": null,
   "metadata": {
    "collapsed": true
   },
   "outputs": [],
   "source": []
  },
  {
   "cell_type": "markdown",
   "metadata": {},
   "source": [
    "## Background"
   ]
  },
  {
   "cell_type": "markdown",
   "metadata": {},
   "source": [
    "The first step in modeling for this dooms day scenario would be to define what a zombie is for anyone who doesn't already know.  Per wikipedia, zombies are fictional undead creatures created through the reanimation of human corpses.  Usually in these doomsday senerious some virus is inadventurently introduced into the general population with an initial patient, commonly refered to as \"patient zero\" being the first zombie.  Zombies don't require anything like food or water to live however they do have a insasibable appiteite for human flesh.  The zombie virus is then spread through the population by bites from infected indiviuals.  My project will work under the assumption that this outbreak has already occured however there is a \"safe\" community inside of a walled city that is keeping all the infected at bay."
   ]
  },
  {
   "cell_type": "code",
   "execution_count": null,
   "metadata": {
    "collapsed": true
   },
   "outputs": [],
   "source": []
  },
  {
   "cell_type": "markdown",
   "metadata": {},
   "source": [
    "So what's there to model right?  All the undead are outside of the city with only the living inside, what could go wrong?  As fans of the AMC television show \"The Walking Dead\" know, these \"safe\" communities never stay safe for long. Usually there is some kind of a breech in the wall that lets the flood of the undead in but one way or another the infected always find there way inside.  For this model lets take a page out of that tv show and assume a mysterious zombie virus has apparently infected everyone in the population. The living keep the virus in check by some unknown means but when someone dies—whether quickly after being bitten by a zombie or by natural causes the result is the same: After death, everyone is reanimated as a bloodthirsty zombie.  In this scenario it doesn't matter how you die, if the brain is still intact that person will become a zombie. "
   ]
  },
  {
   "cell_type": "markdown",
   "metadata": {},
   "source": [
    "## SZR Model "
   ]
  },
  {
   "cell_type": "markdown",
   "metadata": {},
   "source": [
    "A good starting place to find some useful equations would be to look at the classic SIR model.  This model is commonly used to model the effect of a rapid infection on a group of people in contact with one another.  Sounds like as good of a place as any to start doesn't it?  The SIR model works by divided the population into one of three groups.\n",
    "\n",
    "* S: \"Susceptibles\" - This is the number of current healthy individuals that could potentially become infected.\n",
    "\n",
    "* I: \"Infectious\" - This is the number of individuals infected with the virus.\n",
    "\n",
    "* R: \"Recovered\" - This is the number of individuals who have recovered from the virus."
   ]
  },
  {
   "cell_type": "markdown",
   "metadata": {},
   "source": [
    "In order to predict the effect of the virus over the population over time a few other variables need to be defined as well.\n",
    "\n",
    "* β: \"The contact rate\" - This is the probability that a susceptible would become infected if the two were to meet.\n",
    "\n",
    "* γ:  \"The rate of recovery\" - This is expressed as 1/(duration of infection), i.e., in reciprocal units of time."
   ]
  },
  {
   "cell_type": "markdown",
   "metadata": {},
   "source": [
    "The following differential equations are then obtained to express the behavior of the infection over time.\n",
    "\n",
    "$\\dfrac{dS}{dt} = -βIS$ \n",
    "\n",
    "$\\dfrac{dI}{dt} =  βIS - γI$\n",
    "\n",
    "$\\dfrac{dR}{dt} = γI$"
   ]
  },
  {
   "cell_type": "markdown",
   "metadata": {},
   "source": [
    "Thats great for modeling something like the flu, but we are talking about zombies here!  Fortunitely for us some professors up in Ottawa came up with a modified version of this model to be used for zombies.  The whole paper can be found [here.](https://loe.org/images/content/091023/Zombie%20Publication.pdf)\n",
    "\n",
    "The SZR model has three compartments, as before, but the transitions between them are more complex.\n",
    "\n",
    "* β – the probability that a susceptible becomes a zombie when the two encounter each other.\n",
    "\n",
    "* α – the rate at which zombies are killed.\n",
    "\n",
    "* ζ – the rate at which humans in the removed class resurrect to become zombies.\n",
    "    \n",
    "* Π - Birth rate\n",
    "    \n",
    "* δ - The rate at which the susceptibles die from something other then a zombie bite\n",
    "\n",
    "This then gives us the following differential equations.\n",
    "\n",
    "$\\dfrac{dS}{dt} = Π − βSZ − δS$ \n",
    "    \n",
    "$\\dfrac{dZ}{dt} = βSZ + ζR − αSZ$\n",
    "\n",
    "$\\dfrac{dR}{dt} = δS + αSZ − ζR$\n",
    "    \n",
    "Since we are only looking at short period of time for this model, the birth rate can be neglected.  Additionally we don't expect there to be any deaths that wouldn't result in reanimation as even deaths from something other then a zombie bite would still produce a zombie.  Therefore we can assume δ = 0.  \n",
    "\n",
    "Finally we need to assume a ζ value as the rate at which the zombies come back from from the dead.  There is a significant variation on this depending on your source.  It can take a full day, to a few hours or happen in just a few seconds!  For instance in the movie World War Z the infection takes over its host in only 8 seconds.\n",
    "\n",
    "\n",
    "\n",
    "We will assume a worst case scenario in our model that susceptibles who are bit do not go into the removed group but instead are converted straight to a zombie.  This simplifies the equations giving us the following differential equations to use for our model.\n",
    "\n",
    "$\\dfrac{dS}{dt} = −βSZ$ \n",
    "\n",
    "$\\dfrac{dZ}{dt} = βSZ − αSZ = (β−α)SZ$\n",
    "\n",
    "$\\dfrac{dR}{dt} = αSZ$"
   ]
  },
  {
   "cell_type": "markdown",
   "metadata": {},
   "source": [
    "## Reaction-Diffusion "
   ]
  },
  {
   "cell_type": "markdown",
   "metadata": {},
   "source": [
    "The above equations look reasonable but do they make sense?  Lets break it down some more.  \n",
    "\n",
    "Based on the parameters described above, we are assuming only two possible outcomes when a zombie comes in contact with a susceptible.\n",
    "\n",
    "1. The susceptible kills the zombie by damaging its brain removing that zombie from our model.\n",
    "\n",
    "2. The zombie bites the susceptible converting him/her to a zombie who is now free to attack and infect other susceptibles.\n",
    "\n",
    "These outcomes can easily be written as a chemical reaction similar to what we had seen in the fourth HW assignment.\n",
    "\n",
    "{insert Image}\n",
    "\n",
    "According to the Law of Mass Action, the rate of any chemical reaction is proportional to the product of the masses of the reacting substances.  Based on the above image we can verify the above equations are correct and should give us our change in population for each group as a function of time. \n",
    "\n",
    "Based on these equations what assumptions can we make?  Well we see that the population of the susceptibles is only going to decrease with time.  This doesn't bode will for the human race does it!  In the initial outbreak we could have introduced a military presence to try and fight off the epodemic but at this point we are assuming the only people alive to fight the zombies are represented in our initial walled city population.  They are just going to have to make due.\n",
    "\n",
    "What about the zombies?  Well based on the above equation it depends. If beta is larger then alpha the zombie population will only increase with time.  Let's see, a constantly declining susceptible population with a constantly increasing zombie population.  Sounds like our days or maybe even hours are numbered.  Fortunitely not all hope is lost, if the alpha value is higher then beta, then the zombie population will also decrease over time.  Both populations will be in decline and it will come down to who is still standing at the end. "
   ]
  },
  {
   "cell_type": "markdown",
   "metadata": {},
   "source": [
    "The final piece of the puzzle for this model is to incorporate some type of spacial grid system to track how quickly the infection can spread within our city limits.  We wouldn't expect a zombie to be able to infect a susceptible from a mile away right?  The infection is transmitted through a bite and since we are assuming that no deaths in the city are the result of anything other then a zombie bite we can assume that the only way the infection spreads is if the two groups come in direct contact with one another."
   ]
  },
  {
   "cell_type": "markdown",
   "metadata": {},
   "source": [
    "So how do we model the zombie movement within our city?  According to Munz et al. [1 insert link], “the ‘undead’ move in small, irregular steps.”  As such a good mathmatically representation of this would be to use diffusion.\n",
    "\n",
    "[insert video]"
   ]
  },
  {
   "cell_type": "markdown",
   "metadata": {},
   "source": [
    "Per [link], diffusion refers to the process by which molecules intermingle as a result of their kinetic energy of random motion.  Of course once a zombie were to see a susceptible there motion would no longer be random.  They would be attracted to that indiviual and follow it for as long as they were aware of its existance.  Modeling this change in movement for each individually zombie would add a great deal of complexity to the model.  For instance how far away can they see? Can they hear them from even farther? and so on.  For the sake of my sanity lets just assume that there movement is always going to be random.\n",
    "\n",
    "Putting that into a 2-D equation:\n",
    "\n",
    "$\\dfrac{dZ}{dt} = Dz(\\dfrac{d^2Z}{dx^2}+\\dfrac{d^2Z}{dy^2})$\n",
    "\n",
    "\n",
    "* Dz – The diffusion coefficient of zombies\n",
    "\n",
    "Likewise the susceptible population will also diffuse within our city.  We will assume like before that there movements are also random.  Like with the zombies, there movement would only be random until they figured out what was going on.  The brave ones may want to approach the zombies in an attempt to remove them while some others may think it would be wiser to run the other direction.  Adding these variables would again add a great deal of complexity to this model so we will once again assume that there movement stays random.  \n",
    "\n",
    "Putting that into a 2-D equation:\n",
    "\n",
    "$\\dfrac{dS}{dt} = Ds(\\dfrac{d^2S}{dx^2}+\\dfrac{d^2S}{dy^2})$ \n",
    "\n",
    "* Ds – The diffusion coefficient of susceptibles\n",
    "\n",
    "Combining these equations with there reaction equations give us the following equations to evaluate:\n",
    "\n",
    "$\\dfrac{dS}{dt} = Ds(\\dfrac{d^2S}{dx^2} + \\dfrac{d^2S}{dy^2}) − βSZ$\n",
    "\n",
    "$\\dfrac{dZ}{dt} = Dz(\\dfrac{d^2Z}{dx^2} + \\dfrac{d^2Z}{dy^2}) − (β−α)SZ$"
   ]
  },
  {
   "cell_type": "markdown",
   "metadata": {},
   "source": [
    "## The Code... "
   ]
  },
  {
   "cell_type": "markdown",
   "metadata": {},
   "source": [
    "Now that we have some equations to work with lets start setting up our model."
   ]
  },
  {
   "cell_type": "markdown",
   "metadata": {},
   "source": [
    "### Spatial Grid "
   ]
  },
  {
   "cell_type": "code",
   "execution_count": 153,
   "metadata": {
    "collapsed": false
   },
   "outputs": [],
   "source": [
    "import numpy\n",
    "from matplotlib import pyplot\n",
    "import matplotlib.cm as cm\n",
    "%matplotlib inline"
   ]
  },
  {
   "cell_type": "markdown",
   "metadata": {},
   "source": [
    "We first need to pick our walled city to model.  There aren't many of these still around but lets use Old City Jerusalem as our surviving city.  Per Wikipedia {link}, Old City is a 0.35 sq mi walled area within the modern city of Jerusalem.  Additionally as of 2007 the total population was 36,965.  To make things a little easier for us let's assume that the population that remains is evenly distributed in the city at the time of the outbreak.  If we want to get a population around that number lets create a grid that is 200 x 200 with each intersection representing 1 healthy susceptible.  That should give us a total population of 40,000."
   ]
  },
  {
   "cell_type": "code",
   "execution_count": 154,
   "metadata": {
    "collapsed": false
   },
   "outputs": [],
   "source": [
    "Areaofcity = .35*5280**2          #Area of City in Sq feet\n",
    "wall_length = Areaofcity**.5      #Length of the wall along the X and Y-axis in feet\n",
    "\n",
    "n = 200                           #Number of grid points on the X & Y Axis\n",
    "dh = wall_length/(n-1)            #Spacing of grid points along the X and Y Axis\n",
    "S = numpy.ones((n,n))             #Initial Population\n",
    "Z = Z = numpy.zeros_like(S)\n",
    "\n",
    "#Need Plot"
   ]
  },
  {
   "cell_type": "markdown",
   "metadata": {},
   "source": [
    "Looking good so far!  But now lets introduce our \"Patient Zero\" at some random location inside our city."
   ]
  },
  {
   "cell_type": "code",
   "execution_count": 155,
   "metadata": {
    "collapsed": false
   },
   "outputs": [],
   "source": [
    "Z[76,135]=1                       #Patient Zero Location"
   ]
  },
  {
   "cell_type": "markdown",
   "metadata": {},
   "source": [
    "### Stability "
   ]
  },
  {
   "cell_type": "markdown",
   "metadata": {},
   "source": [
    "Since there is no known diffusion coefficient for Zombies and Susceptibles we will have to assume values that make sense.  In some forms of media the zombies can actually be quite fast (World War Z) but usually they are pretty slow.  Lets assume that a zombie can cover 10 sq ft/minute.  Seems resonable enough right?\n",
    "\n",
    "What about the susceptibles?  Well they wouldn't just wonder around without a reason to like the zombies so they should be covering less ground.  Lets make there initial diffusion rate 5 sq ft/minute."
   ]
  },
  {
   "cell_type": "code",
   "execution_count": 156,
   "metadata": {
    "collapsed": true
   },
   "outputs": [],
   "source": [
    "Ds = 30         # Susceptible Diffusion Coefficient in sq ft/hr            \n",
    "Dz = 60         # Zombie Diffusion Coefficient in sq ft/hr"
   ]
  },
  {
   "cell_type": "markdown",
   "metadata": {},
   "source": [
    "Since we have the same mesh spacing for our x and y grid, we know from Module 4.3 that our 2D explicit discretization of the diffusion equation will be stable as long as: $$D\\dfrac{Δt}{δ^2} < 1/4$$\n",
    "\n",
    "* δ: mesh spacing (Δx = Δy)\n",
    "* D: The Max diffusion coefficient used"
   ]
  },
  {
   "cell_type": "code",
   "execution_count": 157,
   "metadata": {
    "collapsed": false
   },
   "outputs": [],
   "source": [
    "T = 365*24                           # Final Time Step (1 Year after Infection)\n",
    "dt = .9 * dh**2 / (4*max(Ds,Dz))     # Time Spacing in hours \n",
    "nt = int(T/dt)                       # Number of time steps"
   ]
  },
  {
   "cell_type": "markdown",
   "metadata": {},
   "source": [
    "### Explicit scheme in 2D"
   ]
  },
  {
   "cell_type": "markdown",
   "metadata": {},
   "source": [
    "As specified above our 2-D Zombie and Susceptible diffusion-reaction equations are:\n",
    "\n",
    "$\\dfrac{dS}{dt} = Ds(\\dfrac{d^2S}{dx^2} + \\dfrac{d^2S}{dy^2}) − βSZ$\n",
    "\n",
    "$\\dfrac{dZ}{dt} = Dz(\\dfrac{d^2Z}{dx^2} + \\dfrac{d^2Z}{dy^2}) − (β−α)SZ$\n",
    "\n",
    "Let's write both these equations out discretized using forward difference in time, and central difference in space, using an explicit scheme."
   ]
  },
  {
   "cell_type": "markdown",
   "metadata": {},
   "source": [
    "Additionally, we need to construct our boundary conditions for this model.  For this model our boundry is the constructed wall that surrounds our city.  This will keep any of the undead outside of our city out but will also keep anything inside our city in.  If a zombie or human were to come up and hit against one of our walls we would expect them to be redirected elsewhere.  We will need to use Neumann boundary conditions for this model."
   ]
  },
  {
   "cell_type": "code",
   "execution_count": 158,
   "metadata": {
    "collapsed": true
   },
   "outputs": [],
   "source": [
    "def ftcs(S, Z, nt, dt, dh):\n",
    "   \n",
    "    for n in range(nt):\n",
    "        Sn = S.copy()\n",
    "        Zn = Z.copy()\n",
    "        \n",
    "        S[1:-1,1:-1] = Sn[1:-1,1:-1] + Ds *(dt/dh**2 * (Sn[2:,1:-1] - 2*Sn[1:-1,1:-1] + Sn[:-2,1:-1]) + dt/dh**2 * (Sn[1:-1,2:] - 2*Sn[1:-1,1:-1] + Sn[1:-1,:-2])) - (beta * Sn[1:-1,1:-1] * Zn[1:-1,1:-1] * dt)\n",
    "        Z[1:-1,1:-1] = Zn[1:-1,1:-1] + Dz *(dt/dh**2 * (Zn[2:,1:-1] - 2*Zn[1:-1,1:-1] + Zn[:-2,1:-1]) + dt/dh**2 * (Zn[1:-1,2:] - 2*Zn[1:-1,1:-1] + Zn[1:-1,:-2])) + ((beta-alpha) * Sn[1:-1,1:-1] * Zn[1:-1,1:-1] * dt)   \n",
    "        \n",
    "        # Neumann conditions everywhere\n",
    "        S[0,:] = S[1,:]\n",
    "        S[:,0] = S[:,1]\n",
    "        S[-1,:] = S[-2,:]\n",
    "        S[:,-1] = S[:,-2]\n",
    "        Z[0,:] = Z[1,:]\n",
    "        Z[:,0] = Z[:,1]\n",
    "        Z[-1,:] = Z[-2,:]\n",
    "        Z[:,-1] = Z[:,-2]\n",
    "        \n",
    "    return S, Z"
   ]
  },
  {
   "cell_type": "code",
   "execution_count": 159,
   "metadata": {
    "collapsed": true
   },
   "outputs": [],
   "source": [
    "beta = .6                 # The probability that a susceptible becomes a zombie when the two encounter each other.\n",
    "alpha = .4                 # The rate at which zombies are killed"
   ]
  },
  {
   "cell_type": "code",
   "execution_count": 160,
   "metadata": {
    "collapsed": false
   },
   "outputs": [],
   "source": [
    "zombie = ftcs(S, Z, nt, dt, dh)"
   ]
  },
  {
   "cell_type": "code",
   "execution_count": 165,
   "metadata": {
    "collapsed": false
   },
   "outputs": [
    {
     "name": "stdout",
     "output_type": "stream",
     "text": [
      "[  9.88131292e-324   9.88131292e-324   9.88131292e-324   9.88131292e-324\n",
      "   9.88131292e-324   9.88131292e-324   9.88131292e-324   9.88131292e-324\n",
      "   9.88131292e-324   9.88131292e-324   9.88131292e-324   9.88131292e-324\n",
      "   9.88131292e-324   9.88131292e-324   9.88131292e-324   9.88131292e-324\n",
      "   9.88131292e-324   9.88131292e-324   9.88131292e-324   9.88131292e-324\n",
      "   9.88131292e-324   9.88131292e-324   9.88131292e-324   9.88131292e-324\n",
      "   9.88131292e-324   9.88131292e-324   9.88131292e-324   9.88131292e-324\n",
      "   9.88131292e-324   9.88131292e-324   9.88131292e-324   9.88131292e-324\n",
      "   9.88131292e-324   9.88131292e-324   9.88131292e-324   9.88131292e-324\n",
      "   9.88131292e-324   9.88131292e-324   9.88131292e-324   9.88131292e-324\n",
      "   9.88131292e-324   9.88131292e-324   9.88131292e-324   9.88131292e-324\n",
      "   9.88131292e-324   9.88131292e-324   9.88131292e-324   9.88131292e-324\n",
      "   9.88131292e-324   9.88131292e-324   9.88131292e-324   9.88131292e-324\n",
      "   9.88131292e-324   9.88131292e-324   9.88131292e-324   9.88131292e-324\n",
      "   9.88131292e-324   9.88131292e-324   9.88131292e-324   9.88131292e-324\n",
      "   9.88131292e-324   9.88131292e-324   9.88131292e-324   9.88131292e-324\n",
      "   9.88131292e-324   9.88131292e-324   9.88131292e-324   9.88131292e-324\n",
      "   9.88131292e-324   9.88131292e-324   9.88131292e-324   9.88131292e-324\n",
      "   9.88131292e-324   9.88131292e-324   9.88131292e-324   9.88131292e-324\n",
      "   9.88131292e-324   9.88131292e-324   9.88131292e-324   9.88131292e-324\n",
      "   9.88131292e-324   9.88131292e-324   9.88131292e-324   9.88131292e-324\n",
      "   9.88131292e-324   9.88131292e-324   9.88131292e-324   9.88131292e-324\n",
      "   9.88131292e-324   9.88131292e-324   9.88131292e-324   9.88131292e-324\n",
      "   9.88131292e-324   9.88131292e-324   9.88131292e-324   9.88131292e-324\n",
      "   9.88131292e-324   9.88131292e-324   9.88131292e-324   9.88131292e-324\n",
      "   9.88131292e-324   9.88131292e-324   9.88131292e-324   9.88131292e-324\n",
      "   9.88131292e-324   9.88131292e-324   9.88131292e-324   9.88131292e-324\n",
      "   9.88131292e-324   9.88131292e-324   9.88131292e-324   9.88131292e-324\n",
      "   9.88131292e-324   9.88131292e-324   9.88131292e-324   9.88131292e-324\n",
      "   9.88131292e-324   9.88131292e-324   9.88131292e-324   9.88131292e-324\n",
      "   9.88131292e-324   9.88131292e-324   9.88131292e-324   9.88131292e-324\n",
      "   9.88131292e-324   9.88131292e-324   9.88131292e-324   9.88131292e-324\n",
      "   9.88131292e-324   9.88131292e-324   9.88131292e-324   9.88131292e-324\n",
      "   9.88131292e-324   9.88131292e-324   9.88131292e-324   9.88131292e-324\n",
      "   9.88131292e-324   9.88131292e-324   9.88131292e-324   9.88131292e-324\n",
      "   9.88131292e-324   9.88131292e-324   9.88131292e-324   9.88131292e-324\n",
      "   9.88131292e-324   9.88131292e-324   9.88131292e-324   9.88131292e-324\n",
      "   9.88131292e-324   9.88131292e-324   9.88131292e-324   9.88131292e-324\n",
      "   9.88131292e-324   9.88131292e-324   9.88131292e-324   9.88131292e-324\n",
      "   9.88131292e-324   9.88131292e-324   9.88131292e-324   9.88131292e-324\n",
      "   9.88131292e-324   9.88131292e-324   9.88131292e-324   9.88131292e-324\n",
      "   9.88131292e-324   9.88131292e-324   9.88131292e-324   9.88131292e-324\n",
      "   9.88131292e-324   9.88131292e-324   9.88131292e-324   9.88131292e-324\n",
      "   9.88131292e-324   9.88131292e-324   9.88131292e-324   9.88131292e-324\n",
      "   9.88131292e-324   9.88131292e-324   9.88131292e-324   9.88131292e-324\n",
      "   9.88131292e-324   9.88131292e-324   9.88131292e-324   9.88131292e-324\n",
      "   9.88131292e-324   9.88131292e-324   9.88131292e-324   9.88131292e-324\n",
      "   9.88131292e-324   9.88131292e-324   9.88131292e-324   9.88131292e-324\n",
      "   9.88131292e-324   9.88131292e-324   9.88131292e-324   9.88131292e-324\n",
      "   9.88131292e-324   9.88131292e-324   9.88131292e-324   9.88131292e-324]\n"
     ]
    }
   ],
   "source": [
    "print(S[199])"
   ]
  },
  {
   "cell_type": "code",
   "execution_count": 162,
   "metadata": {
    "collapsed": false
   },
   "outputs": [
    {
     "name": "stdout",
     "output_type": "stream",
     "text": [
      "[ 0.33460971  0.33460971  0.33460938  0.33460871  0.33460771  0.33460637\n",
      "  0.3346047   0.3346027   0.33460038  0.33459772  0.33459474  0.33459144\n",
      "  0.33458782  0.33458388  0.33457963  0.33457506  0.33457019  0.33456502\n",
      "  0.33455955  0.33455379  0.33454773  0.3345414   0.33453478  0.33452789\n",
      "  0.33452073  0.33451331  0.33450563  0.33449771  0.33448954  0.33448113\n",
      "  0.33447249  0.33446362  0.33445454  0.33444525  0.33443576  0.33442607\n",
      "  0.3344162   0.33440615  0.33439592  0.33438554  0.33437499  0.3343643\n",
      "  0.33435347  0.33434251  0.33433143  0.33432024  0.33430894  0.33429754\n",
      "  0.33428606  0.33427449  0.33426286  0.33425117  0.33423942  0.33422763\n",
      "  0.33421581  0.33420395  0.33419208  0.33418021  0.33416833  0.33415646\n",
      "  0.3341446   0.33413278  0.33412098  0.33410923  0.33409753  0.33408589\n",
      "  0.33407431  0.33406281  0.33405139  0.33404006  0.33402883  0.33401771\n",
      "  0.3340067   0.33399581  0.33398504  0.33397441  0.33396393  0.33395359\n",
      "  0.3339434   0.33393337  0.33392351  0.33391383  0.33390432  0.33389499\n",
      "  0.33388586  0.33387691  0.33386817  0.33385963  0.3338513   0.33384318\n",
      "  0.33383528  0.33382759  0.33382013  0.3338129   0.3338059   0.33379913\n",
      "  0.3337926   0.33378631  0.33378025  0.33377444  0.33376888  0.33376356\n",
      "  0.33375848  0.33375366  0.33374908  0.33374475  0.33374068  0.33373685\n",
      "  0.33373327  0.33372994  0.33372685  0.33372402  0.33372143  0.33371909\n",
      "  0.33371699  0.33371513  0.33371351  0.33371212  0.33371097  0.33371006\n",
      "  0.33370937  0.3337089   0.33370866  0.33370864  0.33370883  0.33370923\n",
      "  0.33370984  0.33371066  0.33371167  0.33371287  0.33371426  0.33371584\n",
      "  0.33371759  0.33371952  0.33372161  0.33372386  0.33372628  0.33372884\n",
      "  0.33373154  0.33373439  0.33373736  0.33374046  0.33374368  0.33374701\n",
      "  0.33375045  0.33375399  0.33375762  0.33376133  0.33376513  0.333769\n",
      "  0.33377293  0.33377692  0.33378096  0.33378505  0.33378917  0.33379332\n",
      "  0.3337975   0.33380169  0.3338059   0.33381011  0.33381431  0.3338185\n",
      "  0.33382268  0.33382683  0.33383095  0.33383503  0.33383907  0.33384306\n",
      "  0.33384699  0.33385087  0.33385467  0.3338584   0.33386205  0.33386562\n",
      "  0.3338691   0.33387248  0.33387576  0.33387893  0.33388199  0.33388494\n",
      "  0.33388777  0.33389048  0.33389306  0.33389551  0.33389782  0.33389999\n",
      "  0.33390202  0.33390391  0.33390565  0.33390724  0.33390868  0.33390996\n",
      "  0.33391109  0.33391206  0.33391287  0.33391352  0.33391401  0.33391433\n",
      "  0.3339145   0.3339145 ]\n"
     ]
    }
   ],
   "source": [
    "print(Z[199])"
   ]
  },
  {
   "cell_type": "markdown",
   "metadata": {},
   "source": [
    "##### Dig Deeper"
   ]
  },
  {
   "cell_type": "markdown",
   "metadata": {},
   "source": [
    "This model assumes the worst case senario where a bit indiviual would instantly become a zombie.  Modify the existing code so that this wouldn't occur for for 1 min, for 1 hour, or for 1 day and see how this changes result."
   ]
  },
  {
   "cell_type": "code",
   "execution_count": 163,
   "metadata": {
    "collapsed": false
   },
   "outputs": [
    {
     "data": {
      "text/html": [
       "<link href='http://fonts.googleapis.com/css?family=Alegreya+Sans:100,300,400,500,700,800,900,100italic,300italic,400italic,500italic,700italic,800italic,900italic' rel='stylesheet' type='text/css'>\n",
       "<link href='http://fonts.googleapis.com/css?family=Arvo:400,700,400italic' rel='stylesheet' type='text/css'>\n",
       "<link href='http://fonts.googleapis.com/css?family=PT+Mono' rel='stylesheet' type='text/css'>\n",
       "<link href='http://fonts.googleapis.com/css?family=Shadows+Into+Light' rel='stylesheet' type='text/css'>\n",
       "<link href='http://fonts.googleapis.com/css?family=Nixie+One' rel='stylesheet' type='text/css'>\n",
       "<style>\n",
       "\n",
       "@font-face {\n",
       "    font-family: \"Computer Modern\";\n",
       "    src: url('http://mirrors.ctan.org/fonts/cm-unicode/fonts/otf/cmunss.otf');\n",
       "}\n",
       "\n",
       "#notebook_panel { /* main background */\n",
       "    background: rgb(245,245,245);\n",
       "}\n",
       "\n",
       "div.cell { /* set cell width */\n",
       "    width: 750px;\n",
       "}\n",
       "\n",
       "div #notebook { /* centre the content */\n",
       "    background: #fff; /* white background for content */\n",
       "    width: 1000px;\n",
       "    margin: auto;\n",
       "    padding-left: 0em;\n",
       "}\n",
       "\n",
       "#notebook li { /* More space between bullet points */\n",
       "    margin-top:0.8em;\n",
       "}\n",
       "\n",
       "/* draw border around running cells */\n",
       "div.cell.border-box-sizing.code_cell.running { \n",
       "    border: 1px solid #111;\n",
       "}\n",
       "\n",
       "/* Put a solid color box around each cell and its output, visually linking them*/\n",
       "div.cell.code_cell {\n",
       "    background-color: rgb(256,256,256); \n",
       "    border-radius: 0px; \n",
       "    padding: 0.5em;\n",
       "    margin-left:1em;\n",
       "    margin-top: 1em;\n",
       "}\n",
       "\n",
       "div.text_cell_render{\n",
       "    font-family: 'Alegreya Sans' sans-serif;\n",
       "    line-height: 140%;\n",
       "    font-size: 125%;\n",
       "    font-weight: 400;\n",
       "    width:600px;\n",
       "    margin-left:auto;\n",
       "    margin-right:auto;\n",
       "}\n",
       "\n",
       "\n",
       "/* Formatting for header cells */\n",
       ".text_cell_render h1 {\n",
       "    font-family: 'Nixie One', serif;\n",
       "    font-style:regular;\n",
       "    font-weight: 400;    \n",
       "    font-size: 45pt;\n",
       "    line-height: 100%;\n",
       "    color: rgb(0,51,102);\n",
       "    margin-bottom: 0.5em;\n",
       "    margin-top: 0.5em;\n",
       "    display: block;\n",
       "}\n",
       "\n",
       ".text_cell_render h2 {\n",
       "    font-family: 'Nixie One', serif;\n",
       "    font-weight: 400;\n",
       "    font-size: 30pt;\n",
       "    line-height: 100%;\n",
       "    color: rgb(0,51,102);\n",
       "    margin-bottom: 0.1em;\n",
       "    margin-top: 0.3em;\n",
       "    display: block;\n",
       "}\t\n",
       "\n",
       ".text_cell_render h3 {\n",
       "    font-family: 'Nixie One', serif;\n",
       "    margin-top:16px;\n",
       "    font-size: 22pt;\n",
       "    font-weight: 600;\n",
       "    margin-bottom: 3px;\n",
       "    font-style: regular;\n",
       "    color: rgb(102,102,0);\n",
       "}\n",
       "\n",
       ".text_cell_render h4 {    /*Use this for captions*/\n",
       "    font-family: 'Nixie One', serif;\n",
       "    font-size: 14pt;\n",
       "    text-align: center;\n",
       "    margin-top: 0em;\n",
       "    margin-bottom: 2em;\n",
       "    font-style: regular;\n",
       "}\n",
       "\n",
       ".text_cell_render h5 {  /*Use this for small titles*/\n",
       "    font-family: 'Nixie One', sans-serif;\n",
       "    font-weight: 400;\n",
       "    font-size: 16pt;\n",
       "    color: rgb(163,0,0);\n",
       "    font-style: italic;\n",
       "    margin-bottom: .1em;\n",
       "    margin-top: 0.8em;\n",
       "    display: block;\n",
       "}\n",
       "\n",
       ".text_cell_render h6 { /*use this for copyright note*/\n",
       "    font-family: 'PT Mono', sans-serif;\n",
       "    font-weight: 300;\n",
       "    font-size: 9pt;\n",
       "    line-height: 100%;\n",
       "    color: grey;\n",
       "    margin-bottom: 1px;\n",
       "    margin-top: 1px;\n",
       "}\n",
       "\n",
       ".CodeMirror{\n",
       "    font-family: \"PT Mono\";\n",
       "    font-size: 90%;\n",
       "}\n",
       "\n",
       "</style>\n",
       "<script>\n",
       "    MathJax.Hub.Config({\n",
       "                        TeX: {\n",
       "                           extensions: [\"AMSmath.js\"],\n",
       "                           equationNumbers: { autoNumber: \"AMS\", useLabelIds: true}\n",
       "                           },\n",
       "                tex2jax: {\n",
       "                    inlineMath: [ ['$','$'], [\"\\\\(\",\"\\\\)\"] ],\n",
       "                    displayMath: [ ['$$','$$'], [\"\\\\[\",\"\\\\]\"] ]\n",
       "                },\n",
       "                displayAlign: 'center', // Change this to 'center' to center equations.\n",
       "                \"HTML-CSS\": {\n",
       "                    styles: {'.MathJax_Display': {\"margin\": 4}}\n",
       "                }\n",
       "        });\n",
       "</script>\n"
      ],
      "text/plain": [
       "<IPython.core.display.HTML object>"
      ]
     },
     "execution_count": 163,
     "metadata": {},
     "output_type": "execute_result"
    }
   ],
   "source": [
    "from IPython.core.display import HTML\n",
    "css_file = '/Users/jasonliz/numerical-mooc/styles/numericalmoocstyle.css'\n",
    "HTML(open(css_file, \"r\").read())"
   ]
  },
  {
   "cell_type": "code",
   "execution_count": null,
   "metadata": {
    "collapsed": true
   },
   "outputs": [],
   "source": []
  }
 ],
 "metadata": {
  "kernelspec": {
   "display_name": "Python 3",
   "language": "python",
   "name": "python3"
  },
  "language_info": {
   "codemirror_mode": {
    "name": "ipython",
    "version": 3
   },
   "file_extension": ".py",
   "mimetype": "text/x-python",
   "name": "python",
   "nbconvert_exporter": "python",
   "pygments_lexer": "ipython3",
   "version": "3.4.3"
  }
 },
 "nbformat": 4,
 "nbformat_minor": 0
}
