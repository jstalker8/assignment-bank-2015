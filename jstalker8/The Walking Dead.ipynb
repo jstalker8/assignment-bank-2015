{
 "cells": [
  {
   "cell_type": "markdown",
   "metadata": {
    "collapsed": true
   },
   "source": [
    "# World War Z - A Mathmatical Model"
   ]
  },
  {
   "cell_type": "markdown",
   "metadata": {},
   "source": [
    "In this course we have studied many interesting and pratical numerical soultion problems intended to give us a better understanding of some of the typical engineering problems we as engineers could encounter in our career.  For my final project I have choosen a topic that while interesting to model, is likely never going to be encountered.  With that said lets start a model for the zombie appocalyse."
   ]
  },
  {
   "cell_type": "markdown",
   "metadata": {},
   "source": [
    "## Background"
   ]
  },
  {
   "cell_type": "markdown",
   "metadata": {},
   "source": [
    "The first step in modeling for this dooms day scenario would be to basically define what a zombie is.  Per wikipedia, zombies are fictional undead creatures created through the reanimation of human corpses.  Usually in these doomsday senerious some virus is inadventurently introduced into the general population with an initial patient, commonly refered to as \"patient zero\" being the first zombie.  Zombies don't require anything like food or water to live however they do have a insasibable appiteite for human flesh.  The zombie virus is then spread through the population by bites from infected indiviuals.  My project will work under the assumption that this outbreak has already occured however there is a \"safe\" community inside of a walled city that is keeping all the infected at bay."
   ]
  },
  {
   "cell_type": "markdown",
   "metadata": {},
   "source": [
    "So what's there to model right?  All the undead are outside of the city with only the living inside.  Well lets take a page out of the AMC tv show The Walking Dead and assume that everyone in the world is already infected with this zombie virus and it doesn't matter if you die from a zombie bite or natural causes, you still have the potential to come back as a zombie as long as the cause of death didn't come from a serve brain injury (which is of course the only way to kill a zombie).  For this model we will assume that someone, somewhere inside our city died from natural causes and came back as our patient zero."
   ]
  },
  {
   "cell_type": "markdown",
   "metadata": {},
   "source": [
    "## SZR Model "
   ]
  },
  {
   "cell_type": "markdown",
   "metadata": {},
   "source": [
    "A good starting place to find some useful equations would be to look at the classic SIR model.  This model is commonly used to model the effect of a rapid infection on a group of people in contact with one another.  Sounds like as good of a place as any to start doesn't it?\n",
    "\n",
    "The SIR model works by divided the population into one of three groups.    \n",
    "\n",
    "    -  S: \"Susceptibles\" - This is the number of current healthy individuals that could potentially become infected.\n",
    "    -  I: \"Infectious\" - This is the number of individuals infected with the virus.\n",
    "    -  R: \"Recovered\" - This is the number of individuals who have recovered from the virus.  \n",
    "\n",
    "In order to predict the effect of the virus over the population over time a few other variables need to be defined as well.\n",
    "\n",
    "    - Beta \"The contact rate\" - This is the probability that a susceptible would become infected if the two were to meet.\n",
    "    - \"\" \"The rate of recovery\" - This is expressed as 1/(duration of infection), i.e., in reciprocal units of time.\n",
    "    \n",
    "The following differential equations are then obtained to express the behavior of the infection over time.\n",
    "\n",
    "    {dS}{dt} = beta I S \n",
    "\n",
    "    {dI}{dt} = beta I S - nu I\n",
    "\n",
    "    {dR}{dt} = nu I"
   ]
  },
  {
   "cell_type": "markdown",
   "metadata": {},
   "source": [
    "Thats great for modeling something like the flu, but we are talking about zombies here!  Fortunitely for us some professors up in Ottawa came up with a modified version of this model to be used for zombies.  The whole paper can be found (insert link here) \n",
    "\n",
    "The SZR model has three compartments, as before, but the transitions between them are more complex.\n",
    "\n",
    "    - β – the probability that a susceptible becomes a zombie when the two encounter each other.\n",
    "\n",
    "    - α – the rate at which zombies are slain, by removing their heads or destroying their brains.\n",
    "\n",
    "    - ζ – the rate at which humans in the removed class resurrect to become zombies.\n",
    "    \n",
    "    - Π - Birth rate\n",
    "    \n",
    "    - δ - The rate at which the susceptibles die from something other then a zombie bite\n",
    "\n",
    "This then gives us the following differential equations.\n",
    "\n",
    "    {dS}{dt} = Π − βSZ − δS\n",
    "\n",
    "    {dZ}{dt} = βSZ + ζR − αSZ\n",
    "\n",
    "    {dR}{dt} = δS + αSZ − ζR\n",
    "    \n",
    "Since we are only modeling a short time period here we can assume that the birth rate Π is 0.  Additionally we don't expect there to be any deaths that wouldn't result in reanimation as even deaths from something other then a zombie bite would still produce a zombie.  Therefore we can assume δ is 0 as well.  Finally we assume that humans who are bite do not go into the removed group but instead are converted straight to a zombie.  This simplifies the equations giving us the following differential equations to use for our model.\n",
    "\n",
    "    {dS}{dt} = −βSZ\n",
    "\n",
    "    {dZ}{dt} = βSZ − αSZ = (β−α)SZ\n",
    "\n",
    "    {dR}{dt} = αSZ"
   ]
  },
  {
   "cell_type": "markdown",
   "metadata": {},
   "source": [
    "## Reaction-Diffusion "
   ]
  },
  {
   "cell_type": "markdown",
   "metadata": {},
   "source": [
    "diffusion of the zombie population into the susceptible population we need to define how they will react to each other when they collide.  For this model we will assume only two possible outcomes.\n",
    "\n",
    "(1)  The susceptible kills the zombie by damaging its brain.\n",
    "\n",
    "or\n",
    "\n",
    "(2)  The zombie bites the susceptible converting him to a zombie who is now free to attack and infect other susceptibles.\n",
    "\n",
    "These outcomes can easily be written as a chemical reaction similar to what we had seen in the fourth HW assignment.\n",
    "\n",
    "S + Z ----> S (at rate alpha)\n",
    "S + Z ----> Z + Z (at rate beta)\n",
    "\n",
    "According to the Law of Mass Action, the rate of any chemical reaction is proportional to the product of the masses of the reacting substances\n"
   ]
  },
  {
   "cell_type": "code",
   "execution_count": 367,
   "metadata": {
    "collapsed": false
   },
   "outputs": [],
   "source": [
    "import numpy\n",
    "from matplotlib import pyplot\n",
    "import matplotlib.cm as cm\n",
    "%matplotlib inline"
   ]
  },
  {
   "cell_type": "code",
   "execution_count": 368,
   "metadata": {
    "collapsed": true
   },
   "outputs": [],
   "source": [
    "Ds = .00008\n",
    "Dz = .00016\n",
    "\n",
    "n = 192\n",
    "dh = 5/(n-1)\n",
    "T = 8000\n",
    "dt = .9 * dh**2 / (4*max(Ds,Dz))\n",
    "nt = int(T/dt)\n",
    "\n",
    "beta = .25                  # The probability that a susceptible becomes a zombie when the two encounter each other.\n",
    "alpha = .75                 # The rate at which zombies are killed"
   ]
  },
  {
   "cell_type": "code",
   "execution_count": 369,
   "metadata": {
    "collapsed": false
   },
   "outputs": [],
   "source": [
    "def ftcs(S, Z, nt, dt, dh):\n",
    "   \n",
    "    for n in range(nt):\n",
    "        Sn = S.copy()\n",
    "        Zn = Z.copy()\n",
    "        \n",
    "        S[1:-1,1:-1] = Sn[1:-1,1:-1] + Ds *(dt/dh**2 * (Sn[2:,1:-1] - 2*Sn[1:-1,1:-1] + Sn[:-2,1:-1]) + dt/dh**2 * (Sn[1:-1,2:] - 2*Sn[1:-1,1:-1] + Sn[1:-1,:-2])) - (beta * Sn[1:-1,1:-1] * Zn[1:-1,1:-1] * dt)\n",
    "        Z[1:-1,1:-1] = Zn[1:-1,1:-1] + Dz *(dt/dh**2 * (Zn[2:,1:-1] - 2*Zn[1:-1,1:-1] + Zn[:-2,1:-1]) + dt/dh**2 * (Zn[1:-1,2:] - 2*Zn[1:-1,1:-1] + Zn[1:-1,:-2])) + ((beta-alpha) * Sn[1:-1,1:-1] * Zn[1:-1,1:-1] * dt)   \n",
    "        \n",
    "        # Neumann conditions everywhere\n",
    "        S[0,:] = S[1,:]\n",
    "        S[:,0] = S[:,1]\n",
    "        S[-1,:] = S[-2,:]\n",
    "        S[:,-1] = S[:,-2]\n",
    "        Z[0,:] = Z[1,:]\n",
    "        Z[:,0] = Z[:,1]\n",
    "        Z[-1,:] = Z[-2,:]\n",
    "        Z[:,-1] = Z[:,-2]\n",
    "        \n",
    "    return S, Z"
   ]
  },
  {
   "cell_type": "code",
   "execution_count": 370,
   "metadata": {
    "collapsed": false
   },
   "outputs": [],
   "source": [
    "S = numpy.ones((n,n))\n",
    "Z = numpy.zeros_like(S)"
   ]
  },
  {
   "cell_type": "code",
   "execution_count": 371,
   "metadata": {
    "collapsed": false
   },
   "outputs": [
    {
     "name": "stdout",
     "output_type": "stream",
     "text": [
      "[[ 0.  0.  0. ...,  0.  0.  0.]\n",
      " [ 0.  1.  0. ...,  0.  0.  0.]\n",
      " [ 0.  0.  0. ...,  0.  0.  0.]\n",
      " ..., \n",
      " [ 0.  0.  0. ...,  0.  0.  0.]\n",
      " [ 0.  0.  0. ...,  0.  0.  0.]\n",
      " [ 0.  0.  0. ...,  0.  0.  0.]]\n"
     ]
    }
   ],
   "source": [
    "Z[1,1]=1\n",
    "print(Z)"
   ]
  },
  {
   "cell_type": "code",
   "execution_count": 372,
   "metadata": {
    "collapsed": false
   },
   "outputs": [],
   "source": [
    "zombie = ftcs(S, Z, nt, dt, dh)"
   ]
  },
  {
   "cell_type": "code",
   "execution_count": 373,
   "metadata": {
    "collapsed": false
   },
   "outputs": [
    {
     "name": "stdout",
     "output_type": "stream",
     "text": [
      "[ 1.44297339  1.44297339  0.94947626  1.31681973  0.82731245  1.27667368\n",
      "  0.82432996  1.27585902  0.82484086  1.27606324  0.82487442  1.27610988\n",
      "  0.82488075  1.27615589  0.82489021  1.27620989  0.82490119  1.27627105\n",
      "  0.8249135   1.27633906  0.82492708  1.27641365  0.82494187  1.27649451\n",
      "  0.82495783  1.27658129  0.82497488  1.27667365  0.82499295  1.2767712\n",
      "  0.82501196  1.27687354  0.82503183  1.27698026  0.82505249  1.27709091\n",
      "  0.82507385  1.27720506  0.82509583  1.27732225  0.82511833  1.27744202\n",
      "  0.82514126  1.27756388  0.82516454  1.27768737  0.82518807  1.27781199\n",
      "  0.82521177  1.27793729  0.82523554  1.27806276  0.82525928  1.27818795\n",
      "  0.82528292  1.27831238  0.82530637  1.27843559  0.82532953  1.27855713\n",
      "  0.82535233  1.27867657  0.82537468  1.27879347  0.8253965   1.27890743\n",
      "  0.82541773  1.27901805  0.82543828  1.27912496  0.82545808  1.2792278\n",
      "  0.82547708  1.27932622  0.82549522  1.27941992  0.82551242  1.27950859\n",
      "  0.82552865  1.27959198  0.82554386  1.27966982  0.82555799  1.27974191\n",
      "  0.82557102  1.27980803  0.8255829   1.27986803  0.82559362  1.27992176\n",
      "  0.82560313  1.27996909  0.82561144  1.28000994  0.82561851  1.28004425\n",
      "  0.82562435  1.28007197  0.82562895  1.28009308  0.8256323   1.28010762\n",
      "  0.82563442  1.28011562  0.82563531  1.28011714  0.82563499  1.28011229\n",
      "  0.82563348  1.28010118  0.8256308   1.28008395  0.82562699  1.28006077\n",
      "  0.82562208  1.28003183  0.8256161   1.27999736  0.8256091   1.27995757\n",
      "  0.82560112  1.27991273  0.82559221  1.27986312  0.82558243  1.27980902\n",
      "  0.82557183  1.27975076  0.82556048  1.27968865  0.82554843  1.27962305\n",
      "  0.82553575  1.27955431  0.82552252  1.27948281  0.82550879  1.27940891\n",
      "  0.82549465  1.27933301  0.82548017  1.27925551  0.82546541  1.27917681\n",
      "  0.82545047  1.27909732  0.82543541  1.27901744  0.82542031  1.27893758\n",
      "  0.82540525  1.27885815  0.82539031  1.27877956  0.82537556  1.27870221\n",
      "  0.82536108  1.27862648  0.82534694  1.27855277  0.82533321  1.27848144\n",
      "  0.82531996  1.27841285  0.82530727  1.27834736  0.82529519  1.27828529\n",
      "  0.82528379  1.27822696  0.82527312  1.27817266  0.82526323  1.27812266\n",
      "  0.82525419  1.27807722  0.82524603  1.27803655  0.82523879  1.2780011\n",
      "  0.82523322  1.27797107  0.82522806  1.27789702  0.82506998  1.27759071\n",
      "  0.82434138  1.28647396  0.85184106  1.39702861  1.20236574  1.20236574]\n"
     ]
    }
   ],
   "source": [
    "print(S[191])"
   ]
  },
  {
   "cell_type": "code",
   "execution_count": 374,
   "metadata": {
    "collapsed": false
   },
   "outputs": [
    {
     "name": "stdout",
     "output_type": "stream",
     "text": [
      "[ 0.37663505  0.37663505 -1.40187251  0.84770308 -1.67566206  0.82477634\n",
      " -1.6745554   0.82096265 -1.67318017  0.82099317 -1.67324352  0.82104926\n",
      " -1.67336403  0.82109515 -1.67349841  0.82114787 -1.67365183  0.82120762\n",
      " -1.67382389  0.82127408 -1.67401386  0.82134696 -1.67422095  0.82142597\n",
      " -1.6744443   0.82151076 -1.67468299  0.821601   -1.67493604  0.82169632\n",
      " -1.67520241  0.82179631 -1.67548101  0.82190057 -1.67577071  0.82200869\n",
      " -1.67607035  0.82212022 -1.67637873  0.82223471 -1.67669461  0.82235172\n",
      " -1.67701674  0.82247077 -1.67734386  0.82259141 -1.6776747   0.82271317\n",
      " -1.67800797  0.82283557 -1.67834241  0.82295815 -1.67867673  0.82308044\n",
      " -1.67900968  0.82320199 -1.67934003  0.82332235 -1.67966656  0.82344108\n",
      " -1.67998808  0.82355775 -1.68030343  0.82367195 -1.6806115   0.82378326\n",
      " -1.68091121  0.82389132 -1.68120153  0.82399574 -1.68148148  0.82409619\n",
      " -1.68175012  0.82419232 -1.68200658  0.82428384 -1.68225005  0.82437046\n",
      " -1.68247976  0.8244519  -1.68269503  0.82452793 -1.68289522  0.82459834\n",
      " -1.68307977  0.82466293 -1.68324819  0.82472153 -1.68340006  0.82477401\n",
      " -1.68353502  0.82482024 -1.68365279  0.82486014 -1.68375316  0.82489365\n",
      " -1.68383599  0.82492072 -1.68390122  0.82494135 -1.68394884  0.82495555\n",
      " -1.68397894  0.82496337 -1.68399166  0.82496486 -1.68398721  0.82496012\n",
      " -1.68396588  0.82494927 -1.68392802  0.82493245 -1.68387405  0.82490982\n",
      " -1.68380445  0.82488156 -1.68371975  0.8248479  -1.68362057  0.82480904\n",
      " -1.68350755  0.82476526 -1.68338141  0.8247168  -1.68324292  0.82466398\n",
      " -1.68309288  0.82460708 -1.68293215  0.82454643 -1.68276163  0.82448236\n",
      " -1.68258227  0.82441523 -1.68239502  0.82434539 -1.68220089  0.82427322\n",
      " -1.68200092  0.8241991  -1.68179615  0.8241234  -1.68158764  0.82404654\n",
      " -1.68137648  0.8239689  -1.68116376  0.82389088 -1.68095057  0.82381288\n",
      " -1.68073799  0.8237353  -1.68052712  0.82365854 -1.68031903  0.82358298\n",
      " -1.68011476  0.82350901 -1.67991537  0.82343701 -1.67972185  0.82336734\n",
      " -1.67953518  0.82330035 -1.67935631  0.82323637 -1.67918615  0.82317574\n",
      " -1.67902554  0.82311876 -1.67887529  0.82306572 -1.67873617  0.82301688\n",
      " -1.67860887  0.82297249 -1.67849403  0.82293279 -1.67839226  0.8228981\n",
      " -1.67830236  0.82286451 -1.67821757  0.82279454 -1.67848259  0.8234275\n",
      " -1.68216006  0.83649009 -1.63753717  0.79554628 -0.68860062 -0.68860062]\n"
     ]
    }
   ],
   "source": [
    "print(Z[191])"
   ]
  },
  {
   "cell_type": "code",
   "execution_count": null,
   "metadata": {
    "collapsed": true
   },
   "outputs": [],
   "source": []
  }
 ],
 "metadata": {
  "kernelspec": {
   "display_name": "Python 3",
   "language": "python",
   "name": "python3"
  },
  "language_info": {
   "codemirror_mode": {
    "name": "ipython",
    "version": 3
   },
   "file_extension": ".py",
   "mimetype": "text/x-python",
   "name": "python",
   "nbconvert_exporter": "python",
   "pygments_lexer": "ipython3",
   "version": "3.4.3"
  }
 },
 "nbformat": 4,
 "nbformat_minor": 0
}
