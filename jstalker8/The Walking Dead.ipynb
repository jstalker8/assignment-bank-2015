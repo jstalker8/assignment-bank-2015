{
 "cells": [
  {
   "cell_type": "markdown",
   "metadata": {
    "collapsed": true
   },
   "source": [
    "# World War Z - A Mathmatical Model"
   ]
  },
  {
   "cell_type": "markdown",
   "metadata": {},
   "source": [
    "In this course we have studied many interesting and pratical numerical soultion problems intended to give us a better understanding of some the typical engineering problems we as engineers can be expected to solve.  For my final project I have choosen a topic that while interesting to model, is likely never going to be needed by civilization.  With that said lets start modeling a zombie appocalyse."
   ]
  },
  {
   "cell_type": "markdown",
   "metadata": {},
   "source": [
    "The first step in modeling for this dooms day scenario would be to basically define what a zombie is.  Per wikipedia, zombies are fictional undead creatures created through the reanimation of human corpses.  Usually in these doomsday senerious some virus is inadventurently introduced into the general population with an initial patient, commonly refered to as \"patient zero\".  The infection is then spread through the population by bites from infected indiviuals."
   ]
  },
  {
   "cell_type": "markdown",
   "metadata": {},
   "source": [
    "-The rate at which zombies move varies greatly from one movie to another.  For the purpose of this model we will assume that the zombies are able to move fairly quickly."
   ]
  },
  {
   "cell_type": "markdown",
   "metadata": {},
   "source": [
    "When a human or \"Susceptible\" encounters a zombie we will assume only two possible outcomes.  \n",
    "  (1)  The Susceptible prevails in combat removing that one zombie from our system.\n",
    "  \n",
    "  or\n",
    "  \n",
    "  (2)  The zombie bites the susceptible and converts him/her into a zombie.\n",
    "  \n",
    "  We will assume that "
   ]
  },
  {
   "cell_type": "code",
   "execution_count": 340,
   "metadata": {
    "collapsed": false
   },
   "outputs": [],
   "source": [
    "import numpy\n",
    "from matplotlib import pyplot\n",
    "import matplotlib.cm as cm\n",
    "%matplotlib inline"
   ]
  },
  {
   "cell_type": "code",
   "execution_count": 341,
   "metadata": {
    "collapsed": true
   },
   "outputs": [],
   "source": [
    "Ds = .00008\n",
    "Dz = .00016\n",
    "\n",
    "beta = 1                    # The probability that a susceptible becomes a zombie when the two encounter each other.\n",
    "alpha = .5                  # The rate at which zombies are killed"
   ]
  },
  {
   "cell_type": "code",
   "execution_count": 342,
   "metadata": {
    "collapsed": false
   },
   "outputs": [],
   "source": [
    "n= 192\n",
    "dh = 5/(n-1)\n",
    "T= 8000\n",
    "dt = .9 * dh**2 / (4*max(Ds,Dz))\n",
    "nt = int(T/dt)"
   ]
  },
  {
   "cell_type": "code",
   "execution_count": 343,
   "metadata": {
    "collapsed": false
   },
   "outputs": [
    {
     "data": {
      "image/png": "[encoded data removed]",
      "text/plain": [
       "<matplotlib.figure.Figure at 0x106ee8240>"
      ]
     },
     "metadata": {},
     "output_type": "display_data"
    }
   ],
   "source": [
    "uvinitial=numpy.load('/Users/jasonliz/MAE6286/uvinitial.npz')\n",
    "S= numpy.ones((10,10))\n",
    "Z= numpy.zeros((10,10))\n",
    "Z[2,3] = 1.0\n",
    "\n",
    "fig = pyplot.figure(figsize=(8,5))\n",
    "pyplot.subplot(121)\n",
    "pyplot.imshow(S, cmap = cm.RdBu)\n",
    "pyplot.xticks([]), pyplot.yticks([]);\n",
    "pyplot.subplot(122)\n",
    "pyplot.imshow(Z, cmap = cm.RdBu)\n",
    "pyplot.xticks([]), pyplot.yticks([]);"
   ]
  },
  {
   "cell_type": "code",
   "execution_count": 344,
   "metadata": {
    "collapsed": false
   },
   "outputs": [],
   "source": [
    "def ftcs(S, Z, nt, dt, dh):\n",
    "    \n",
    "    Sn = S.copy()\n",
    "    Zn = Z.copy()\n",
    "    \n",
    "    for n in range(nt):\n",
    "        S[1:-1,1:-1]=Sn[1:-1,1:-1]+Ds*(dt/dh**2 * (Sn[2:,1:-1] - 2*Sn[1:-1,1:-1] + Sn[:-2,1:-1]) + dt/dh**2 * (Sn[1:-1,2:] - 2*Sn[1:-1,1:-1] + Sn[1:-1,:-2])) - (beta*Sn[1:-1,1:-1]*Zn[1:-1,1:-1] * dt)\n",
    "        Z[1:-1,1:-1]=Zn[1:-1,1:-1]+Dz*(dt/dh**2 * (Zn[2:,1:-1] - 2*Zn[1:-1,1:-1] + Zn[:-2,1:-1]) + dt/dh**2 * (Zn[1:-1,2:] - 2*Zn[1:-1,1:-1] + Zn[1:-1,:-2])) + (beta*Sn[1:-1,1:-1]*Zn[1:-1,1:-1] * dt) + ((beta-alpha)*Sn[1:-1,1:-1]*Zn[1:-1,1:-1] * dt)\n",
    "            \n",
    "        # Neumann conditions everywhere\n",
    "        S[0,:] = S[1,:]\n",
    "        S[:,0] = S[:,1]\n",
    "        S[-1,:] = S[-2,:]\n",
    "        S[:,-1] = S[:,-2]\n",
    "        Z[0,:] = Z[1,:]\n",
    "        Z[:,0] = Z[:,1]\n",
    "        Z[-1,:] = Z[-2,:]\n",
    "        Z[:,-1] = Z[:,-2]\n",
    "    \n",
    "    return S, Z"
   ]
  },
  {
   "cell_type": "code",
   "execution_count": 345,
   "metadata": {
    "collapsed": false
   },
   "outputs": [],
   "source": [
    "Zombie=ftcs(S, Z, nt, dt, dh)"
   ]
  },
  {
   "cell_type": "code",
   "execution_count": 346,
   "metadata": {
    "collapsed": false
   },
   "outputs": [
    {
     "name": "stdout",
     "output_type": "stream",
     "text": [
      "[[ 0.          0.          0.          0.225       0.          0.          0.\n",
      "   0.          0.          0.        ]\n",
      " [ 0.          0.          0.          0.225       0.          0.          0.\n",
      "   0.          0.          0.        ]\n",
      " [ 0.          0.          0.225       1.54552986  0.225       0.          0.\n",
      "   0.          0.          0.        ]\n",
      " [ 0.          0.          0.          0.225       0.          0.          0.\n",
      "   0.          0.          0.        ]\n",
      " [ 0.          0.          0.          0.          0.          0.          0.\n",
      "   0.          0.          0.        ]\n",
      " [ 0.          0.          0.          0.          0.          0.          0.\n",
      "   0.          0.          0.        ]\n",
      " [ 0.          0.          0.          0.          0.          0.          0.\n",
      "   0.          0.          0.        ]\n",
      " [ 0.          0.          0.          0.          0.          0.          0.\n",
      "   0.          0.          0.        ]\n",
      " [ 0.          0.          0.          0.          0.          0.          0.\n",
      "   0.          0.          0.        ]\n",
      " [ 0.          0.          0.          0.          0.          0.          0.\n",
      "   0.          0.          0.        ]]\n"
     ]
    }
   ],
   "source": [
    "print(Z)"
   ]
  },
  {
   "cell_type": "code",
   "execution_count": 347,
   "metadata": {
    "collapsed": false
   },
   "outputs": [
    {
     "data": {
      "image/png": "[encoded data removed]",
      "text/plain": [
       "<matplotlib.figure.Figure at 0x106ef6e80>"
      ]
     },
     "metadata": {},
     "output_type": "display_data"
    }
   ],
   "source": [
    "fig = pyplot.figure(figsize=(8,5))\n",
    "pyplot.subplot(121)\n",
    "pyplot.imshow(S, cmap = cm.RdBu)\n",
    "pyplot.xticks([]), pyplot.yticks([]);\n",
    "pyplot.subplot(122)\n",
    "pyplot.imshow(Z, cmap = cm.RdBu)\n",
    "pyplot.xticks([]), pyplot.yticks([]);"
   ]
  },
  {
   "cell_type": "code",
   "execution_count": 348,
   "metadata": {
    "collapsed": false
   },
   "outputs": [
    {
     "name": "stdout",
     "output_type": "stream",
     "text": [
      "[[ 1.          1.          1.          1.          1.          1.          1.\n",
      "   1.          1.          1.        ]\n",
      " [ 1.          1.          1.          1.          1.          1.          1.\n",
      "   1.          1.          1.        ]\n",
      " [ 1.          1.          1.          0.03631342  1.          1.          1.\n",
      "   1.          1.          1.        ]\n",
      " [ 1.          1.          1.          1.          1.          1.          1.\n",
      "   1.          1.          1.        ]\n",
      " [ 1.          1.          1.          1.          1.          1.          1.\n",
      "   1.          1.          1.        ]\n",
      " [ 1.          1.          1.          1.          1.          1.          1.\n",
      "   1.          1.          1.        ]\n",
      " [ 1.          1.          1.          1.          1.          1.          1.\n",
      "   1.          1.          1.        ]\n",
      " [ 1.          1.          1.          1.          1.          1.          1.\n",
      "   1.          1.          1.        ]\n",
      " [ 1.          1.          1.          1.          1.          1.          1.\n",
      "   1.          1.          1.        ]\n",
      " [ 1.          1.          1.          1.          1.          1.          1.\n",
      "   1.          1.          1.        ]]\n"
     ]
    }
   ],
   "source": [
    "print(S)"
   ]
  },
  {
   "cell_type": "code",
   "execution_count": null,
   "metadata": {
    "collapsed": true
   },
   "outputs": [],
   "source": []
  }
 ],
 "metadata": {
  "kernelspec": {
   "display_name": "Python 3",
   "language": "python",
   "name": "python3"
  },
  "language_info": {
   "codemirror_mode": {
    "name": "ipython",
    "version": 3
   },
   "file_extension": ".py",
   "mimetype": "text/x-python",
   "name": "python",
   "nbconvert_exporter": "python",
   "pygments_lexer": "ipython3",
   "version": "3.4.3"
  }
 },
 "nbformat": 4,
 "nbformat_minor": 0
}
